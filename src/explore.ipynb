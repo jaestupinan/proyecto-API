{
    "cells": [
        {
            "cell_type": "markdown",
            "metadata": {},
            "source": [
                "# Explore here"
            ]
        },
        {
            "cell_type": "code",
            "execution_count": 56,
            "metadata": {},
            "outputs": [
                {
                    "name": "stdout",
                    "output_type": "stream",
                    "text": [
                        "track    : luther (with sza)\n",
                        "popularity: 89\n",
                        "duration_ms: 177598\n",
                        "\n",
                        "track    : Not Like Us\n",
                        "popularity: 92\n",
                        "duration_ms: 274192\n",
                        "\n",
                        "track    : tv off (feat. lefty gunplay)\n",
                        "popularity: 90\n",
                        "duration_ms: 220690\n",
                        "\n",
                        "track    : All The Stars (with SZA)\n",
                        "popularity: 90\n",
                        "duration_ms: 232186\n",
                        "\n",
                        "track    : squabble up\n",
                        "popularity: 87\n",
                        "duration_ms: 157992\n",
                        "\n",
                        "track    : 30 For 30 (with Kendrick Lamar)\n",
                        "popularity: 85\n",
                        "duration_ms: 278276\n",
                        "\n",
                        "track    : HUMBLE.\n",
                        "popularity: 84\n",
                        "duration_ms: 177000\n",
                        "\n",
                        "track    : Money Trees\n",
                        "popularity: 78\n",
                        "duration_ms: 386906\n",
                        "\n",
                        "track    : peekaboo (feat. azchike)\n",
                        "popularity: 84\n",
                        "duration_ms: 155917\n",
                        "\n",
                        "track    : Like That\n",
                        "popularity: 82\n",
                        "duration_ms: 267706\n",
                        "\n"
                    ]
                }
            ],
            "source": [
                "#solucion 1 \n",
                "from dotenv import load_dotenv\n",
                "import os\n",
                "import spotipy\n",
                "from spotipy.oauth2 import SpotifyClientCredentials\n",
                "\n",
                "load_dotenv()\n",
                "\n",
                "#PASO 5\n",
                "\n",
                "client_id = os.environ.get(\"CLIENT_ID\")\n",
                "client_secret = os.environ.get(\"CLIENT_SECRET\")\n",
                "\n",
                "kendrick = \"2YZyLoL8N0Wb9xBt1NhZWg\"\n",
                "spotify = spotipy.Spotify(client_credentials_manager=SpotifyClientCredentials(client_id=client_id,client_secret=client_secret))\n",
                "results = spotify.artist_top_tracks(kendrick)\n",
                "\n",
                "for track in results['tracks'][:10]:\n",
                "    print(f'track    : {track[\"name\"]}')\n",
                "    print(f\"popularity: {track['popularity']}\")\n",
                "    print(f\"duration_ms: {track['duration_ms']}\")\n",
                "    print()"
            ]
        },
        {
            "cell_type": "code",
            "execution_count": 67,
            "metadata": {},
            "outputs": [
                {
                    "name": "stdout",
                    "output_type": "stream",
                    "text": [
                        "                 Track name  Popularity  Duration (min)\n",
                        "7               Money Trees          78        6.448433\n",
                        "9                 Like That          82        4.461767\n",
                        "8  peekaboo (feat. azchike)          84        2.598617\n"
                    ]
                }
            ],
            "source": [
                "import pandas as pd\n",
                "\n",
                "# Crear una lista para almacenar los datos de las canciones\n",
                "tracks = []\n",
                "\n",
                "# Iterar sobre las primeras 10 canciones en 'results['tracks']'\n",
                "for track in results['tracks'][:10]:\n",
                "    # Crear un diccionario con la información de la canción\n",
                "    track_info = {\n",
                "        \"Track name\": track[\"name\"],  # Nombre de la canción\n",
                "        \"Popularity\": track[\"popularity\"],  # Popularidad de la canción\n",
                "        \"Duration (min)\": track[\"duration_ms\"] / 60000  # Duración en minutos\n",
                "    }\n",
                "    # Añadir el diccionario a la lista 'tracks'\n",
                "    tracks.append(track_info)\n",
                "\n",
                "# Crear el DataFrame a partir de la lista de diccionarios\n",
                "df = pd.DataFrame(tracks)\n",
                "\n",
                "# Ordenar el DataFrame por la columna \"Popularity\" de menor a mayor\n",
                "df_sorted = df.sort_values(by=\"Popularity\", ascending=True)\n",
                "\n",
                "# Seleccionar las 3 canciones menos populares\n",
                "top_3 = df_sorted.head(3)\n",
                "\n",
                "# Mostrar el resultado\n",
                "print(top_3)"
            ]
        },
        {
            "cell_type": "code",
            "execution_count": null,
            "metadata": {},
            "outputs": [
                {
                    "ename": "ModuleNotFoundError",
                    "evalue": "No module named 'seaborn'",
                    "output_type": "error",
                    "traceback": [
                        "\u001b[31m---------------------------------------------------------------------------\u001b[39m",
                        "\u001b[31mModuleNotFoundError\u001b[39m                       Traceback (most recent call last)",
                        "\u001b[36mCell\u001b[39m\u001b[36m \u001b[39m\u001b[32mIn[75]\u001b[39m\u001b[32m, line 1\u001b[39m\n\u001b[32m----> \u001b[39m\u001b[32m1\u001b[39m \u001b[38;5;28;01mimport\u001b[39;00m\u001b[38;5;250m \u001b[39m\u001b[34;01mseaborn\u001b[39;00m\u001b[38;5;250m \u001b[39m\u001b[38;5;28;01mas\u001b[39;00m\u001b[38;5;250m \u001b[39m\u001b[34;01msns\u001b[39;00m\n\u001b[32m      2\u001b[39m \u001b[38;5;28;01mimport\u001b[39;00m\u001b[38;5;250m \u001b[39m\u001b[34;01mmatplotlib\u001b[39;00m\u001b[34;01m.\u001b[39;00m\u001b[34;01mpyplot\u001b[39;00m\u001b[38;5;250m \u001b[39m\u001b[38;5;28;01mas\u001b[39;00m\u001b[38;5;250m \u001b[39m\u001b[34;01mplt\u001b[39;00m\n\u001b[32m      4\u001b[39m \u001b[38;5;66;03m# Crear el gráfico de dispersión con marcadores personalizados\u001b[39;00m\n",
                        "\u001b[31mModuleNotFoundError\u001b[39m: No module named 'seaborn'"
                    ]
                }
            ],
            "source": [
                "import seaborn as sns\n",
                "import matplotlib.pyplot as plt\n",
                "\n",
                "sns.scatterplot(\n",
                "    data=df,                   # DataFrame con los datos\n",
                "    x='Popularity',            # Eje X: Popularidad\n",
                "    y='Duration (min)',        # Eje Y: Duración en minutos\n",
                "    hue='Track name',          # Color de los puntos según el nombre del track\n",
                "    marker=(4, 1, 0),          # Marcador en forma de estrella\n",
                "    s=300,                     # Tamaño de los marcadores\n",
                "    palette='plasma',          # Paleta de colores para los puntos\n",
                "    edgecolor='black',         # Borde de los marcadores en negro\n",
                "    linewidth=1                # Grosor del borde\n",
                ")\n",
                "\n",
                "# Personalizar el gráfico\n",
                "plt.title('Popularidad vs Duración de las Canciones', fontsize=16)\n",
                "plt.xlabel('Popularidad', fontsize=12)\n",
                "plt.ylabel('Duración (minutos)', fontsize=12)\n",
                "plt.legend(bbox_to_anchor=(1.05, 1), loc='upper left')  # Mover la leyenda fuera del gráfico\n",
                "\n",
                "# Mostrar el gráfico\n",
                "plt.show()"
            ]
        },
        {
            "cell_type": "code",
            "execution_count": null,
            "metadata": {},
            "outputs": [
                {
                    "ename": "SyntaxError",
                    "evalue": "invalid syntax (2237714876.py, line 6)",
                    "output_type": "error",
                    "traceback": [
                        "  \u001b[36mCell\u001b[39m\u001b[36m \u001b[39m\u001b[32mIn[68]\u001b[39m\u001b[32m, line 6\u001b[39m\n\u001b[31m    \u001b[39m\u001b[31mload the .env file variables\u001b[39m\n         ^\n\u001b[31mSyntaxError\u001b[39m\u001b[31m:\u001b[39m invalid syntax\n"
                    ]
                }
            ],
            "source": [
                "from dotenv import load_dotenv\n",
                "import os\n",
                "import spotipy\n",
                "from spotipy.oauth2 import SpotifyClientCredentials\n",
                "\n",
                "load the .env file variables\n",
                "load_dotenv()\n",
                "\n",
                "client_id = os.environ.get(\"CLIENT_ID\")\n",
                "client_secret = os.environ.get(\"CLIENT_SECRET\")\n",
                "\n",
                "client_credentials_manager = SpotifyClientCredentials(client_id=client_id, client_secret=client_secret)\n",
                "sp = spotipy.Spotify(client_credentials_manager=client_credentials_manager)\n",
                "\n",
                "artist_name = \"Kendrick Lamar\"\n",
                "results = sp.search(q=f\"artist:{artist_name}\", type=\"artist\")\n",
                "artist_id = results[\"artists\"][\"items\"][0][\"id\"]\n",
                "\n",
                "top_tracks = sp.artist_top_tracks(artist_id)[\"tracks\"]\n",
                "\n",
                "import pandas as pd\n",
                "\n",
                "tracks_data = []\n",
                "for track in top_tracks:\n",
                "    tracks_data.append({\n",
                "        \"name\": track[\"name\"],\n",
                "        \"popularity\": track[\"popularity\"],\n",
                "        \"duration_ms\": track[\"duration_ms\"]\n",
                "    })\n",
                "\n",
                "df = pd.DataFrame(tracks_data)\n",
                "df[\"duration_min\"] = df[\"duration_ms\"] / 60000  # Convertir a minutos\n",
                "df = df.drop(columns=[\"duration_ms\"])\n",
                "\n",
                "import matplotlib.pyplot as plt \n",
                "\n",
                "plt.scatter(df[\"duration_min\"], df[\"popularity\"])\n",
                "plt.xlabel(\"Duración (minutos)\")\n",
                "plt.ylabel(\"Popularidad\")\n",
                "plt.title(\"Relación entre duración y popularidad\")\n",
                "plt.show()\n",
                "\n"
            ]
        }
    ],
    "metadata": {
        "kernelspec": {
            "display_name": "Python 3",
            "language": "python",
            "name": "python3"
        },
        "language_info": {
            "codemirror_mode": {
                "name": "ipython",
                "version": 3
            },
            "file_extension": ".py",
            "mimetype": "text/x-python",
            "name": "python",
            "nbconvert_exporter": "python",
            "pygments_lexer": "ipython3",
            "version": "3.11.4"
        },
        "orig_nbformat": 4
    },
    "nbformat": 4,
    "nbformat_minor": 2
}
